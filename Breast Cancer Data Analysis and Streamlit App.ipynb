{
 "cells": [
  {
   "cell_type": "code",
   "execution_count": 4,
   "metadata": {},
   "outputs": [],
   "source": [
    "from sklearn.datasets import load_breast_cancer\n",
    "import pandas as pd\n",
    "from sklearn.model_selection import train_test_split\n",
    "from sklearn.preprocessing import StandardScaler\n",
    "from sklearn.feature_selection import SelectKBest, f_classif\n",
    "from sklearn.model_selection import train_test_split, GridSearchCV\n",
    "from sklearn.neural_network import MLPClassifier\n",
    "from sklearn.metrics import classification_report, confusion_matrix\n",
    "import seaborn as sns\n",
    "import matplotlib.pyplot as plt\n",
    "import streamlit as st\n",
    "import numpy as np"
   ]
  },
  {
   "cell_type": "code",
   "execution_count": 5,
   "metadata": {},
   "outputs": [],
   "source": [
    "# Load the dataset\n",
    "data = load_breast_cancer()\n",
    "df = pd.DataFrame(data.data, columns=data.feature_names)\n",
    "df['target'] = data.target"
   ]
  },
  {
   "cell_type": "code",
   "execution_count": 6,
   "metadata": {},
   "outputs": [],
   "source": [
    "# Step 2: Handle missing values (if any)\n",
    "if df.isnull().sum().sum() > 0:\n",
    "    df.fillna(df.mean(), inplace=True)  # Fill missing values with the mean\n",
    "    print(\"Missing values handled.\")"
   ]
  },
  {
   "cell_type": "code",
   "execution_count": 7,
   "metadata": {},
   "outputs": [],
   "source": [
    "# Step 3: Normalize numerical features\n",
    "scaler = StandardScaler()\n",
    "feature_columns = df.columns[:-1]  # Exclude the target column\n",
    "df[feature_columns] = scaler.fit_transform(df[feature_columns])"
   ]
  },
  {
   "cell_type": "code",
   "execution_count": 8,
   "metadata": {},
   "outputs": [],
   "source": [
    "# Step 4: Split the dataset into features and target\n",
    "X = df.drop(columns='target')  # Features\n",
    "y = df['target']  # Target"
   ]
  },
  {
   "cell_type": "code",
   "execution_count": 9,
   "metadata": {},
   "outputs": [],
   "source": [
    "# Step 5: Perform feature selection\n",
    "# Select the top 10 features using ANOVA F-test\n",
    "k = 10  # Number of top features to select\n",
    "selector = SelectKBest(score_func=f_classif, k=k)\n",
    "X_new = selector.fit_transform(X, y)"
   ]
  },
  {
   "cell_type": "code",
   "execution_count": 10,
   "metadata": {},
   "outputs": [
    {
     "name": "stdout",
     "output_type": "stream",
     "text": [
      "Selected 10 Features: ['mean radius', 'mean perimeter', 'mean area', 'mean concavity', 'mean concave points', 'worst radius', 'worst perimeter', 'worst area', 'worst concavity', 'worst concave points']\n"
     ]
    }
   ],
   "source": [
    "# Get the selected feature names\n",
    "selected_features = X.columns[selector.get_support()]\n",
    "print(f\"Selected {k} Features: {list(selected_features)}\")"
   ]
  },
  {
   "cell_type": "code",
   "execution_count": 11,
   "metadata": {},
   "outputs": [],
   "source": [
    "# Step 6: Split the selected features into train and test sets\n",
    "X_train, X_test, y_train, y_test = train_test_split(X_new, y, test_size=0.2, random_state=42)"
   ]
  },
  {
   "cell_type": "code",
   "execution_count": 12,
   "metadata": {},
   "outputs": [],
   "source": [
    "# Step 7: Define the MLPClassifier and parameter grid\n",
    "mlp = MLPClassifier(random_state=42, max_iter=500)\n",
    "\n",
    "# Define the parameter grid for tuning\n",
    "param_grid = {\n",
    "    'hidden_layer_sizes': [(50, 50), (100,), (100, 50)],\n",
    "    'activation': ['relu', 'tanh'],  # Activation functions\n",
    "    'solver': ['adam', 'sgd'],  # Optimization algorithms\n",
    "    'alpha': [0.0001, 0.001, 0.01],  # L2 regularization parameter\n",
    "    'learning_rate': ['constant', 'adaptive'],  # Learning rate schedule\n",
    "}"
   ]
  },
  {
   "cell_type": "code",
   "execution_count": 13,
   "metadata": {},
   "outputs": [],
   "source": [
    "# Step 8: Set up GridSearchCV\n",
    "grid_search = GridSearchCV(\n",
    "    estimator=mlp,\n",
    "    param_grid=param_grid,\n",
    "    scoring='accuracy',\n",
    "    cv=5,  # 5-fold cross-validation\n",
    "    verbose=2,\n",
    "    n_jobs=-1  # Use all available processors\n",
    ")"
   ]
  },
  {
   "cell_type": "code",
   "execution_count": 14,
   "metadata": {},
   "outputs": [
    {
     "name": "stdout",
     "output_type": "stream",
     "text": [
      "Starting Grid Search...\n",
      "Fitting 5 folds for each of 72 candidates, totalling 360 fits\n",
      "Grid Search completed.\n"
     ]
    },
    {
     "name": "stderr",
     "output_type": "stream",
     "text": [
      "c:\\Users\\angel\\AppData\\Local\\Programs\\Python\\Python312\\Lib\\site-packages\\sklearn\\neural_network\\_multilayer_perceptron.py:691: ConvergenceWarning: Stochastic Optimizer: Maximum iterations (500) reached and the optimization hasn't converged yet.\n",
      "  warnings.warn(\n"
     ]
    }
   ],
   "source": [
    "# Step 9: Perform the Grid Search\n",
    "print(\"Starting Grid Search...\")\n",
    "grid_search.fit(X_train, y_train)\n",
    "print(\"Grid Search completed.\")"
   ]
  },
  {
   "cell_type": "code",
   "execution_count": 15,
   "metadata": {},
   "outputs": [
    {
     "name": "stdout",
     "output_type": "stream",
     "text": [
      "Best Parameters: {'activation': 'relu', 'alpha': 0.0001, 'hidden_layer_sizes': (100,), 'learning_rate': 'constant', 'solver': 'adam'}\n"
     ]
    }
   ],
   "source": [
    "# Step 10: Display the best parameters and evaluate the model\n",
    "print(f\"Best Parameters: {grid_search.best_params_}\")\n",
    "best_model = grid_search.best_estimator_"
   ]
  },
  {
   "cell_type": "code",
   "execution_count": 16,
   "metadata": {},
   "outputs": [
    {
     "name": "stdout",
     "output_type": "stream",
     "text": [
      "\n",
      "Classification Report:\n",
      "              precision    recall  f1-score   support\n",
      "\n",
      "           0       0.95      0.98      0.97        43\n",
      "           1       0.99      0.97      0.98        71\n",
      "\n",
      "    accuracy                           0.97       114\n",
      "   macro avg       0.97      0.97      0.97       114\n",
      "weighted avg       0.97      0.97      0.97       114\n",
      "\n"
     ]
    }
   ],
   "source": [
    "# Evaluate on the test set\n",
    "y_pred = best_model.predict(X_test)\n",
    "print(\"\\nClassification Report:\")\n",
    "print(classification_report(y_test, y_pred))"
   ]
  },
  {
   "cell_type": "markdown",
   "metadata": {},
   "source": [
    "Key Metrics:\n",
    "\n",
    "Precision:\n",
    "\n",
    "Class 0 (negative cases): 95% of the predicted negatives are correct.\n",
    "Class 1 (positive cases): 99% of the predicted positives are correct.\n",
    "\n",
    "High precision indicates the model is making very few false-positive predictions.\n",
    "\n",
    "Recall:\n",
    "\n",
    "Class 0: 98% of the actual negatives are correctly identified.\n",
    "Class 1: 97% of the actual positives are correctly identified.\n",
    "\n",
    "High recall shows the model is missing very few actual positives or negatives.\n",
    "\n",
    "F1-Score:\n",
    "\n",
    "Combines precision and recall into a single score:\n",
    "\n",
    "Class 0: 97%\n",
    "Class 1: 98%\n",
    "\n",
    "Indicates a good balance between precision and recall.\n",
    "\n",
    "Accuracy:\n",
    "\n",
    "Overall, the model correctly classified 97% of the samples.\n",
    "\n",
    "Macro Average:\n",
    "\n",
    "Average of precision, recall, and F1-score across all classes: 97%.\n",
    "\n",
    "Treats all classes equally."
   ]
  },
  {
   "cell_type": "markdown",
   "metadata": {},
   "source": [
    "Strong Performance:\n",
    "\n",
    "The model performs exceptionally well, with high precision and recall across both classes.\n",
    "Accuracy is 97%, indicating excellent predictive performance on this dataset."
   ]
  },
  {
   "cell_type": "markdown",
   "metadata": {},
   "source": [
    "Step 5: Implementing an Artificial Neural Network (ANN) Model"
   ]
  },
  {
   "cell_type": "code",
   "execution_count": 17,
   "metadata": {},
   "outputs": [],
   "source": [
    "# Step 1: Load and preprocess the dataset\n",
    "data = load_breast_cancer()\n",
    "df = pd.DataFrame(data.data, columns=data.feature_names)\n",
    "df['target'] = data.target"
   ]
  },
  {
   "cell_type": "code",
   "execution_count": 18,
   "metadata": {},
   "outputs": [],
   "source": [
    "# Normalize features\n",
    "scaler = StandardScaler()\n",
    "feature_columns = df.columns[:-1]\n",
    "df[feature_columns] = scaler.fit_transform(df[feature_columns])"
   ]
  },
  {
   "cell_type": "code",
   "execution_count": 19,
   "metadata": {},
   "outputs": [
    {
     "name": "stdout",
     "output_type": "stream",
     "text": [
      "Selected Features: ['mean radius', 'mean perimeter', 'mean area', 'mean concavity', 'mean concave points', 'worst radius', 'worst perimeter', 'worst area', 'worst concavity', 'worst concave points']\n"
     ]
    }
   ],
   "source": [
    "# Perform feature selection (optional)\n",
    "k = 10\n",
    "selector = SelectKBest(score_func=f_classif, k=k)\n",
    "X_new = selector.fit_transform(df[feature_columns], df['target'])\n",
    "selected_features = df[feature_columns].columns[selector.get_support()]\n",
    "print(f\"Selected Features: {list(selected_features)}\")"
   ]
  },
  {
   "cell_type": "code",
   "execution_count": 20,
   "metadata": {},
   "outputs": [],
   "source": [
    "# Split into train and test sets\n",
    "X_train, X_test, y_train, y_test = train_test_split(X_new, df['target'], test_size=0.2, random_state=42)"
   ]
  },
  {
   "cell_type": "code",
   "execution_count": 21,
   "metadata": {},
   "outputs": [],
   "source": [
    "# Step 2: Define the ANN model\n",
    "mlp = MLPClassifier(\n",
    "    hidden_layer_sizes=(100,),  # One hidden layer with 100 neurons\n",
    "    activation='relu',          # ReLU activation function\n",
    "    solver='adam',              # Adam optimizer\n",
    "    max_iter=500,               # Maximum number of iterations\n",
    "    random_state=42\n",
    ")"
   ]
  },
  {
   "cell_type": "code",
   "execution_count": 22,
   "metadata": {},
   "outputs": [
    {
     "name": "stdout",
     "output_type": "stream",
     "text": [
      "Training the ANN model...\n",
      "Training completed.\n"
     ]
    },
    {
     "name": "stderr",
     "output_type": "stream",
     "text": [
      "c:\\Users\\angel\\AppData\\Local\\Programs\\Python\\Python312\\Lib\\site-packages\\sklearn\\neural_network\\_multilayer_perceptron.py:691: ConvergenceWarning: Stochastic Optimizer: Maximum iterations (500) reached and the optimization hasn't converged yet.\n",
      "  warnings.warn(\n"
     ]
    }
   ],
   "source": [
    "# Step 3: Train the model\n",
    "print(\"Training the ANN model...\")\n",
    "mlp.fit(X_train, y_train)\n",
    "print(\"Training completed.\")"
   ]
  },
  {
   "cell_type": "code",
   "execution_count": 23,
   "metadata": {},
   "outputs": [],
   "source": [
    "# Step 4: Evaluate the model\n",
    "y_pred = mlp.predict(X_test)"
   ]
  },
  {
   "cell_type": "code",
   "execution_count": 24,
   "metadata": {},
   "outputs": [
    {
     "name": "stdout",
     "output_type": "stream",
     "text": [
      "\n",
      "Classification Report:\n",
      "              precision    recall  f1-score   support\n",
      "\n",
      "           0       0.95      0.98      0.97        43\n",
      "           1       0.99      0.97      0.98        71\n",
      "\n",
      "    accuracy                           0.97       114\n",
      "   macro avg       0.97      0.97      0.97       114\n",
      "weighted avg       0.97      0.97      0.97       114\n",
      "\n"
     ]
    }
   ],
   "source": [
    "# Classification report\n",
    "print(\"\\nClassification Report:\")\n",
    "print(classification_report(y_test, y_pred))"
   ]
  },
  {
   "cell_type": "markdown",
   "metadata": {},
   "source": [
    "ccuracy:\n",
    "\n",
    "97% Accuracy: The model correctly predicted 97% of the test samples, indicating strong overall performance. This suggests the ANN effectively captured the patterns in the dataset.\n",
    "\n",
    "Class-Specific Metrics:\n",
    "\n",
    "Class 0 (Benign):\n",
    "\n",
    "Precision (95%): Of all predicted benign cases, 95% were correct. A slightly lower precision compared to Class 1 means there are more false positives for Class 0.\n",
    "\n",
    "Recall (98%): Of all actual benign cases, 98% were correctly identified. This shows the model misses very few actual benign cases.\n",
    "\n",
    "F1-Score (97%): Combines precision and recall; high performance on this class.\n",
    "\n",
    "Class 1 (Malignant):\n",
    "\n",
    "Precision (99%): The model is extremely reliable when predicting malignant cases, with very few false positives.\n",
    "\n",
    "Recall (97%): Of all actual malignant cases, 97% were correctly identified. There is a slightly higher rate of false negatives compared to false positives.\n",
    "\n",
    "F1-Score (98%): Indicates a strong balance between precision and recall.\n",
    "\n",
    "Macro vs. Weighted Averages:\n",
    "\n",
    "Macro Average (97%):\n",
    "\n",
    "This treats both classes equally, regardless of class size. The high score indicates balanced performance across classes.\n",
    "\n",
    "The high accuracy and balanced metrics across classes indicate the ANN model generalizes well on the dataset.\n"
   ]
  },
  {
   "cell_type": "code",
   "execution_count": 25,
   "metadata": {},
   "outputs": [
    {
     "data": {
      "image/png": "[encoded data removed]",
      "text/plain": [
       "<Figure size 640x480 with 2 Axes>"
      ]
     },
     "metadata": {},
     "output_type": "display_data"
    }
   ],
   "source": [
    "# Confusion matrix\n",
    "cm = confusion_matrix(y_test, y_pred)\n",
    "sns.heatmap(cm, annot=True, fmt='d', cmap='Blues', xticklabels=['Benign', 'Malignant'], yticklabels=['Benign', 'Malignant'])\n",
    "plt.title('Confusion Matrix')\n",
    "plt.xlabel('Predicted')\n",
    "plt.ylabel('Actual')\n",
    "plt.show()"
   ]
  },
  {
   "cell_type": "code",
   "execution_count": 26,
   "metadata": {},
   "outputs": [
    {
     "name": "stdout",
     "output_type": "stream",
     "text": [
      "Training Accuracy: 0.97\n",
      "Test Accuracy: 0.97\n"
     ]
    }
   ],
   "source": [
    "# Check model performance on training data\n",
    "train_accuracy = mlp.score(X_train, y_train)\n",
    "test_accuracy = mlp.score(X_test, y_test)\n",
    "print(f\"Training Accuracy: {train_accuracy:.2f}\")\n",
    "print(f\"Test Accuracy: {test_accuracy:.2f}\")"
   ]
  },
  {
   "cell_type": "markdown",
   "metadata": {},
   "source": [
    "The training and test accuracies being identical at 97% indicate that the model is well-trained and generalizes effectively to unseen data. There is no sign of overfitting or underfitting, suggesting a good balance between model complexity and dataset representation."
   ]
  },
  {
   "cell_type": "markdown",
   "metadata": {},
   "source": [
    "Step 6: Streamlit App Development"
   ]
  },
  {
   "cell_type": "code",
   "execution_count": 27,
   "metadata": {},
   "outputs": [],
   "source": [
    "# Define the Streamlit app code as a string\n",
    "app_code = \"\"\"\n",
    "import streamlit as st\n",
    "import pandas as pd\n",
    "from sklearn.datasets import load_breast_cancer\n",
    "from sklearn.preprocessing import StandardScaler\n",
    "from sklearn.neural_network import MLPClassifier\n",
    "import numpy as np\n",
    "\n",
    "# Load and preprocess the dataset\n",
    "data = load_breast_cancer()\n",
    "df = pd.DataFrame(data.data, columns=data.feature_names)\n",
    "df['target'] = data.target\n",
    "\n",
    "# Normalize features\n",
    "scaler = StandardScaler()\n",
    "X = scaler.fit_transform(df[data.feature_names])\n",
    "y = df['target']\n",
    "\n",
    "# Train a simple ANN model\n",
    "mlp = MLPClassifier(hidden_layer_sizes=(100,), activation='relu', max_iter=500, random_state=42)\n",
    "mlp.fit(X, y)\n",
    "\n",
    "# Streamlit App\n",
    "st.title(\"Breast Cancer Prediction App\")\n",
    "st.write(''' \n",
    "### Explore the Breast Cancer Dataset and Predict Cancer Type\n",
    "''')\n",
    "\n",
    "# Dataset exploration\n",
    "if st.sidebar.checkbox(\"Show Dataset\"):\n",
    "    st.write(df.head())\n",
    "\n",
    "# User Input Section\n",
    "st.sidebar.write(\"### Enter Features for Prediction\")\n",
    "user_input = []\n",
    "for feature in data.feature_names:\n",
    "    value = st.sidebar.number_input(feature, min_value=float(np.min(df[feature])), max_value=float(np.max(df[feature])), value=float(df[feature].mean()))\n",
    "    user_input.append(value)\n",
    "\n",
    "# Prediction Button\n",
    "if st.sidebar.button(\"Predict\"):\n",
    "    # Scale user input and make a prediction\n",
    "    user_input_scaled = scaler.transform([user_input])\n",
    "    prediction = mlp.predict(user_input_scaled)\n",
    "    prediction_proba = mlp.predict_proba(user_input_scaled)\n",
    "    \n",
    "    result = \"Malignant\" if prediction[0] == 1 else \"Benign\"\n",
    "    st.write(f\"### Prediction: {result}\")\n",
    "    st.write(f\"Probability of Malignant: {prediction_proba[0][1]:.2f}\")\n",
    "    st.write(f\"Probability of Benign: {prediction_proba[0][0]:.2f}\")\n",
    "\n",
    "# Visualization Section\n",
    "st.sidebar.write(\"### Dataset Visualization\")\n",
    "if st.sidebar.checkbox(\"Show Target Distribution\"):\n",
    "    st.write(\"Target Distribution in Dataset\")\n",
    "    st.bar_chart(df['target'].value_counts())\n",
    "\"\"\""
   ]
  },
  {
   "cell_type": "code",
   "execution_count": 28,
   "metadata": {},
   "outputs": [
    {
     "name": "stdout",
     "output_type": "stream",
     "text": [
      "Streamlit app saved as app.py\n"
     ]
    }
   ],
   "source": [
    "file_path = \"app.py\"\n",
    "with open(file_path, \"w\") as file:\n",
    "    file.write(app_code)\n",
    "\n",
    "print(f\"Streamlit app saved as {file_path}\")"
   ]
  },
  {
   "cell_type": "markdown",
   "metadata": {},
   "source": [
    "Running the Streamlit App:\n",
    "\n",
    "Run the following command in the terminal to launch the app locally:\n",
    "\n",
    "Select firs the dir where this file is saved\n",
    "\n",
    "streamlit run app.py"
   ]
  }
 ],
 "metadata": {
  "kernelspec": {
   "display_name": "Python 3",
   "language": "python",
   "name": "python3"
  },
  "language_info": {
   "codemirror_mode": {
    "name": "ipython",
    "version": 3
   },
   "file_extension": ".py",
   "mimetype": "text/x-python",
   "name": "python",
   "nbconvert_exporter": "python",
   "pygments_lexer": "ipython3",
   "version": "3.12.0"
  }
 },
 "nbformat": 4,
 "nbformat_minor": 2
}
